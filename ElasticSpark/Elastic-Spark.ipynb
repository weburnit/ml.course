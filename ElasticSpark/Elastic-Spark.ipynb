{
 "cells": [
  {
   "cell_type": "code",
   "execution_count": 25,
   "metadata": {},
   "outputs": [],
   "source": [
    "from datetime import datetime\n",
    "from elasticsearch import Elasticsearch\n",
    "import os\n",
    "import sys\n",
    "import numpy as np\n",
    "\n",
    "inputs = sys.argv\n",
    "#inputs = [0, 'tag:\"kubernetes.var.log.containers.lgms*\" AND ProductOutboundCreationJob',\"06/09/2017 16:30\", \"06/09/2017 17:30\", 'log.txt']\n",
    "query = inputs[1]\n",
    "startQuery = inputs[2]\n",
    "endQuery = inputs[3]\n",
    "output_path = inputs[4]"
   ]
  },
  {
   "cell_type": "code",
   "execution_count": 13,
   "metadata": {
    "collapsed": true
   },
   "outputs": [],
   "source": [
    "es = Elasticsearch(['http://es.ops.lzd.co'], port=80)"
   ]
  },
  {
   "cell_type": "code",
   "execution_count": 22,
   "metadata": {},
   "outputs": [],
   "source": [
    "end = datetime.strptime(endQuery, \"%d/%m/%Y %H:%M\")##(\"06/09/2017 16:30\", \"%d/%m/%Y %H:%M\")\n",
    "start = datetime.strptime(startQuery, \"%d/%m/%Y %H:%M\")\n",
    "queryFrom = 0\n",
    "size = 10\n",
    "timerange = {\"range\": {\"@timestamp\": {\"gte\": int(start.timestamp()*1000),\"lte\": int(end.timestamp()*1000),\"format\": \"epoch_millis\"}}}\n",
    "params = {\"from\" : queryFrom, \"size\" : size, \"query\": {\"bool\": {\"must\":[{\"query_string\": {\"analyze_wildcard\": True,\"query\": query}}, timerange]}}}"
   ]
  },
  {
   "cell_type": "code",
   "execution_count": 23,
   "metadata": {},
   "outputs": [],
   "source": [
    "##query = 'tag:\"kubernetes.var.log.containers.lgms*\"'\n"
   ]
  },
  {
   "cell_type": "code",
   "execution_count": 29,
   "metadata": {},
   "outputs": [],
   "source": [
    "writer = open(output_path, 'w')\n",
    "pages = np.ceil(res['hits']['total']/size)\n",
    "for i in range(0, int(pages)):\n",
    "    params['from'] = i * size\n",
    "    res = es.search(index='lgms-app*', body=params)\n",
    "    for log in res['hits']['hits']:\n",
    "        writer.write(str(log))"
   ]
  },
  {
   "cell_type": "code",
   "execution_count": 24,
   "metadata": {},
   "outputs": [
    {
     "name": "stdout",
     "output_type": "stream",
     "text": [
      "{'took': 75, 'timed_out': False, '_shards': {'total': 75, 'successful': 75, 'failed': 0}, 'hits': {'total': 146, 'max_score': 11.497336, 'hits': [{'_index': 'lgms-app-2017.09.06', '_type': 'fluentd', '_id': 'AV5Wh4PsVJuXGbOMdB79', '_score': 11.497336, '_source': {'log': '[2017-09-06 09:31:11] Processed: Lgms\\\\Jobs\\\\ProductOutbound\\\\ProductOutboundCreationJob\\n', 'stream': 'stdout', 'tag': 'kubernetes.var.log.containers.lgms-product-outbound-creation-2685167734-vmhcg_lgms_product-outbound-creation-333c914cb00ece7d5f4fcca800583011d742dd908be9682ec5abfaa95660ab7d.log', '@timestamp': '2017-09-06T09:31:11+00:00'}}, {'_index': 'lgms-app-2017.09.06', '_type': 'fluentd', '_id': 'AV5WoJ6ZhXlO8HT5-GS-', '_score': 11.497336, '_source': {'log': '[2017-09-06 09:58:38] Processed: Lgms\\\\Jobs\\\\ProductOutbound\\\\ProductOutboundCreationJob\\n', 'stream': 'stdout', 'tag': 'kubernetes.var.log.containers.lgms-product-outbound-creation-2685167734-vmhcg_lgms_product-outbound-creation-333c914cb00ece7d5f4fcca800583011d742dd908be9682ec5abfaa95660ab7d.log', '@timestamp': '2017-09-06T09:58:38+00:00'}}, {'_index': 'lgms-app-2017.09.06', '_type': 'fluentd', '_id': 'AV5WnFizjPm46QmRbIKc', '_score': 11.497336, '_source': {'log': '[2017-09-06 09:53:56] Processed: Lgms\\\\Jobs\\\\ProductOutbound\\\\ProductOutboundCreationJob\\n', 'stream': 'stdout', 'tag': 'kubernetes.var.log.containers.lgms-product-outbound-creation-2685167734-vmhcg_lgms_product-outbound-creation-333c914cb00ece7d5f4fcca800583011d742dd908be9682ec5abfaa95660ab7d.log', '@timestamp': '2017-09-06T09:53:56+00:00'}}, {'_index': 'lgms-app-2017.09.06', '_type': 'fluentd', '_id': 'AV5WtnF1t7LQTNnjCcSQ', '_score': 11.497336, '_source': {'log': '[2017-09-06 10:22:28] Processed: Lgms\\\\Jobs\\\\ProductOutbound\\\\ProductOutboundCreationJob\\n', 'stream': 'stdout', 'tag': 'kubernetes.var.log.containers.lgms-product-outbound-creation-2685167734-vmhcg_lgms_product-outbound-creation-333c914cb00ece7d5f4fcca800583011d742dd908be9682ec5abfaa95660ab7d.log', '@timestamp': '2017-09-06T10:22:28+00:00'}}, {'_index': 'lgms-app-2017.09.06', '_type': 'fluentd', '_id': 'AV5WnkEJOQslMdf2JWUr', '_score': 11.497336, '_source': {'log': '[2017-09-06 09:56:02] Processed: Lgms\\\\Jobs\\\\ProductOutbound\\\\ProductOutboundCreationJob\\n', 'stream': 'stdout', 'tag': 'kubernetes.var.log.containers.lgms-product-outbound-creation-2685167734-vmhcg_lgms_product-outbound-creation-333c914cb00ece7d5f4fcca800583011d742dd908be9682ec5abfaa95660ab7d.log', '@timestamp': '2017-09-06T09:56:02+00:00'}}, {'_index': 'lgms-app-2017.09.06', '_type': 'fluentd', '_id': 'AV5WkPocOQslMdf2G5LV', '_score': 11.497336, '_source': {'log': '[2017-09-06 09:41:30] Processed: Lgms\\\\Jobs\\\\ProductOutbound\\\\ProductOutboundCreationJob\\n', 'stream': 'stdout', 'tag': 'kubernetes.var.log.containers.lgms-product-outbound-creation-2685167734-vmhcg_lgms_product-outbound-creation-333c914cb00ece7d5f4fcca800583011d742dd908be9682ec5abfaa95660ab7d.log', '@timestamp': '2017-09-06T09:41:30+00:00'}}, {'_index': 'lgms-app-2017.09.06', '_type': 'fluentd', '_id': 'AV5WkeSIOQslMdf2HEQF', '_score': 11.387401, '_source': {'log': '[2017-09-06 09:42:30] Processed: Lgms\\\\Jobs\\\\ProductOutbound\\\\ProductOutboundCreationJob\\n', 'stream': 'stdout', 'tag': 'kubernetes.var.log.containers.lgms-product-outbound-creation-2685167734-vmhcg_lgms_product-outbound-creation-333c914cb00ece7d5f4fcca800583011d742dd908be9682ec5abfaa95660ab7d.log', '@timestamp': '2017-09-06T09:42:30+00:00'}}, {'_index': 'lgms-app-2017.09.06', '_type': 'fluentd', '_id': 'AV5Wk_P2t7LQTNnj5n5c', '_score': 11.387401, '_source': {'log': '[2017-09-06 09:44:45] Processed: Lgms\\\\Jobs\\\\ProductOutbound\\\\ProductOutboundCreationJob\\n', 'stream': 'stdout', 'tag': 'kubernetes.var.log.containers.lgms-product-outbound-creation-2685167734-vmhcg_lgms_product-outbound-creation-333c914cb00ece7d5f4fcca800583011d742dd908be9682ec5abfaa95660ab7d.log', '@timestamp': '2017-09-06T09:44:45+00:00'}}, {'_index': 'lgms-app-2017.09.06', '_type': 'fluentd', '_id': 'AV5WiabbOQslMdf2Fo_S', '_score': 11.387401, '_source': {'log': '[2017-09-06 09:33:33] Processed: Lgms\\\\Jobs\\\\ProductOutbound\\\\ProductOutboundCreationJob\\n', 'stream': 'stdout', 'tag': 'kubernetes.var.log.containers.lgms-product-outbound-creation-2685167734-vmhcg_lgms_product-outbound-creation-333c914cb00ece7d5f4fcca800583011d742dd908be9682ec5abfaa95660ab7d.log', '@timestamp': '2017-09-06T09:33:33+00:00'}}, {'_index': 'lgms-app-2017.09.06', '_type': 'fluentd', '_id': 'AV5Wi2grjPm46QmRU0AW', '_score': 11.387401, '_source': {'log': '[2017-09-06 09:35:29] Processed: Lgms\\\\Jobs\\\\ProductOutbound\\\\ProductOutboundCreationJob\\n', 'stream': 'stdout', 'tag': 'kubernetes.var.log.containers.lgms-product-outbound-creation-2685167734-vmhcg_lgms_product-outbound-creation-333c914cb00ece7d5f4fcca800583011d742dd908be9682ec5abfaa95660ab7d.log', '@timestamp': '2017-09-06T09:35:29+00:00'}}]}}\n"
     ]
    }
   ],
   "source": [
    "print(res)"
   ]
  }
 ],
 "metadata": {
  "kernelspec": {
   "display_name": "Python 3",
   "language": "python",
   "name": "python3"
  },
  "language_info": {
   "codemirror_mode": {
    "name": "ipython",
    "version": 3
   },
   "file_extension": ".py",
   "mimetype": "text/x-python",
   "name": "python",
   "nbconvert_exporter": "python",
   "pygments_lexer": "ipython3",
   "version": "3.6.1"
  }
 },
 "nbformat": 4,
 "nbformat_minor": 2
}
